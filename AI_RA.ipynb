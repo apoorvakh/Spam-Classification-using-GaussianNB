{
  "nbformat": 4,
  "nbformat_minor": 0,
  "metadata": {
    "colab": {
      "name": "AI RA",
      "version": "0.3.2",
      "provenance": [],
      "collapsed_sections": []
    },
    "kernelspec": {
      "name": "python3",
      "display_name": "Python 3"
    }
  },
  "cells": [
    {
      "metadata": {
        "id": "VHyU4rW_yRFO",
        "colab_type": "code",
        "colab": {}
      },
      "cell_type": "code",
      "source": [
        "import numpy as np\n",
        "#Import Gaussian Naive Bayes model\n",
        "from sklearn.naive_bayes import GaussianNB\n",
        "from sklearn import metrics"
      ],
      "execution_count": 0,
      "outputs": []
    },
    {
      "metadata": {
        "id": "7NLUaTTQyfMH",
        "colab_type": "code",
        "colab": {}
      },
      "cell_type": "code",
      "source": [
        "# Read the dataset\n",
        "data = []\n",
        "with open('spambase.data') as inputFile:\n",
        "  data = inputFile.readlines()"
      ],
      "execution_count": 0,
      "outputs": []
    },
    {
      "metadata": {
        "colab_type": "code",
        "id": "FGD-uRtD0IUa",
        "colab": {}
      },
      "cell_type": "code",
      "source": [
        "# preprocess the data\n",
        "dataSplit = [line.split(\",\") for line in data]\n",
        "spamData = [[float(d) for d in datapoint] for datapoint in dataSplit]\n",
        "\n",
        "# split to features and labels\n",
        "X = [datapoint[:-1] for datapoint in spamData]\n",
        "y = [datapoint[-1] for datapoint in spamData]"
      ],
      "execution_count": 0,
      "outputs": []
    },
    {
      "metadata": {
        "id": "G-II9EMByWA6",
        "colab_type": "code",
        "colab": {}
      },
      "cell_type": "code",
      "source": [
        "#Create a Gaussian Classifier\n",
        "model = GaussianNB()"
      ],
      "execution_count": 0,
      "outputs": []
    },
    {
      "metadata": {
        "id": "NVl-RazJyXuG",
        "colab_type": "code",
        "colab": {}
      },
      "cell_type": "code",
      "source": [
        "def k_fold_generator(X, y, k_fold):\n",
        "    subset_size = len(X) // k_fold  # Cast to int if using Python 3\n",
        "    for k in range(k_fold):\n",
        "        X_train = X[:k * subset_size] + X[(k + 1) * subset_size:]\n",
        "        X_test = X[k * subset_size:][:subset_size]\n",
        "        y_train = y[:k * subset_size] + y[(k + 1) * subset_size:]\n",
        "        y_test = y[k * subset_size:][:subset_size]\n",
        "\n",
        "        yield X_train, y_train, X_test, y_test\n"
      ],
      "execution_count": 0,
      "outputs": []
    },
    {
      "metadata": {
        "id": "_87jI6XByb5I",
        "colab_type": "code",
        "colab": {
          "base_uri": "https://localhost:8080/",
          "height": 208
        },
        "outputId": "3cd21b60-6c94-489a-d947-25c2def29112"
      },
      "cell_type": "code",
      "source": [
        "Perform k-fold cross validation for k=10\n",
        "k_fold = 10\n",
        "print(\"Numer of samples in each k-fold : \", len(X)//k_fold)\n",
        "spamMetrics = []\n",
        "k = 1\n",
        "# Train the model using the training sets using k-fold cross validation\n",
        "for X_train, y_train, X_test, y_test in k_fold_generator(X, y, k_fold):\n",
        "  X_train, y_train, X_test, y_test = np.array(X_train), np.array(y_train), np.array(X_test), np.array(y_test) \n",
        "  model.fit(X_train,y_train)\n",
        "  \n",
        "  #Predict the response for test dataset\n",
        "  y_pred = model.predict(X_test)\n",
        "  \n",
        "  # false positives, false negatives, overall error rates \n",
        "  FP = 0\n",
        "  FN = 0\n",
        "  OE = 0\n",
        "  for i in range(len(y_pred)):\n",
        "    if y_pred[i]!=y_test[i]:\n",
        "      OE += 1\n",
        "      if y_pred[i]==1:\n",
        "        FP += 1\n",
        "      else:\n",
        "        FN += 1\n",
        "  FP=FP/len(y_pred)\n",
        "  FN=FN/len(y_pred)\n",
        "  OE=OE/len(y_pred)\n",
        "  spamMetrics.append([FP, FN, OE])\n",
        "  \n",
        "  # Model Accuracy, how often is the classifier correct?\n",
        "  print(\"Accuracy for k=\", k, \" :\",metrics.accuracy_score(y_test, y_pred), \"FP : \", FP, \", FN : \", FN, \", OE : \", OE)\n",
        "  k += 1\n",
        "\n",
        "avgFP, avgFN, avgOE = 0, 0, 0\n",
        "for v in spamMetrics:\n",
        "  avgFP+=v[0]\n",
        "  avgFN+=v[1]\n",
        "  avgOE+=v[2]\n",
        "  \n",
        "avgFP = avgFP/k_fold\n",
        "avgFN = avgFN/k_fold\n",
        "avgOE = avgOE/k_fold\n",
        "\n",
        "spamMetrics.append([avgFP, avgFN, avgOE])\n"
      ],
      "execution_count": 80,
      "outputs": [
        {
          "output_type": "stream",
          "text": [
            "Numer of samples in each k-fold :  460\n",
            "Accuracy for k= 1  : 0.9739130434782609 FP :  0.0 , FN :  0.02608695652173913 , OE :  0.02608695652173913\n",
            "Accuracy for k= 2  : 0.9652173913043478 FP :  0.0 , FN :  0.034782608695652174 , OE :  0.034782608695652174\n",
            "Accuracy for k= 3  : 0.967391304347826 FP :  0.0 , FN :  0.03260869565217391 , OE :  0.03260869565217391\n",
            "Accuracy for k= 4  : 0.9021739130434783 FP :  0.015217391304347827 , FN :  0.08260869565217391 , OE :  0.09782608695652174\n",
            "Accuracy for k= 5  : 0.7782608695652173 FP :  0.2217391304347826 , FN :  0.0 , OE :  0.2217391304347826\n",
            "Accuracy for k= 6  : 0.8173913043478261 FP :  0.1826086956521739 , FN :  0.0 , OE :  0.1826086956521739\n",
            "Accuracy for k= 7  : 0.8 FP :  0.2 , FN :  0.0 , OE :  0.2\n",
            "Accuracy for k= 8  : 0.7391304347826086 FP :  0.2608695652173913 , FN :  0.0 , OE :  0.2608695652173913\n",
            "Accuracy for k= 9  : 0.7673913043478261 FP :  0.2326086956521739 , FN :  0.0 , OE :  0.2326086956521739\n",
            "Accuracy for k= 10  : 0.46304347826086956 FP :  0.5369565217391304 , FN :  0.0 , OE :  0.5369565217391304\n"
          ],
          "name": "stdout"
        }
      ]
    },
    {
      "metadata": {
        "id": "owBfxsJS77ri",
        "colab_type": "code",
        "colab": {
          "base_uri": "https://localhost:8080/",
          "height": 277
        },
        "outputId": "ed7f03e8-f772-4abc-fc18-680a1cd27033"
      },
      "cell_type": "code",
      "source": [
        "print(\" ************** EVALUATING THE RESULTS ***************\")\n",
        "\n",
        "print(\"_\"*65)\n",
        "print(\"| Fold number | False Positive | False Negative | Overall Error |\")\n",
        "print(\"_\"*65)\n",
        "for k in range(k_fold):\n",
        "  print(\"|     % 3d     |       % 1.5f |       % 5.5f |      % 1.5f |\" %(k+1, spamMetrics[k][0], spamMetrics[k][1], spamMetrics[k][2]))\n",
        "print(\"_\"*65)\n",
        "print(\"|     Avg     |       % 1.5f |       % 5.5f |      % 1.5f |\" %( spamMetrics[k][0], spamMetrics[k][1], spamMetrics[k][2]))\n",
        "print(\"_\"*65)\n"
      ],
      "execution_count": 81,
      "outputs": [
        {
          "output_type": "stream",
          "text": [
            " ************** EVALUATING THE RESULTS ***************\n",
            "_________________________________________________________________\n",
            "| Fold number | False Positive | False Negative | Overall Error |\n",
            "_________________________________________________________________\n",
            "|      1      |        0.00000 |        0.02609 |       0.02609 |\n",
            "|      2      |        0.00000 |        0.03478 |       0.03478 |\n",
            "|      3      |        0.00000 |        0.03261 |       0.03261 |\n",
            "|      4      |        0.01522 |        0.08261 |       0.09783 |\n",
            "|      5      |        0.22174 |        0.00000 |       0.22174 |\n",
            "|      6      |        0.18261 |        0.00000 |       0.18261 |\n",
            "|      7      |        0.20000 |        0.00000 |       0.20000 |\n",
            "|      8      |        0.26087 |        0.00000 |       0.26087 |\n",
            "|      9      |        0.23261 |        0.00000 |       0.23261 |\n",
            "|     10      |        0.53696 |        0.00000 |       0.53696 |\n",
            "_________________________________________________________________\n",
            "|     Avg     |        0.16500 |        0.01761 |       0.18261 |\n",
            "_________________________________________________________________"
          ],
          "name": "stdout"
        }
      ]
    }
  ]
}
